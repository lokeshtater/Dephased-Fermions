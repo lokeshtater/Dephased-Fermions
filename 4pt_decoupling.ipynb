{
 "cells": [
  {
   "cell_type": "code",
   "execution_count": null,
   "metadata": {},
   "outputs": [],
   "source": [
    "import numpy as np\n",
    "import itertools"
   ]
  },
  {
   "cell_type": "code",
   "execution_count": null,
   "metadata": {},
   "outputs": [],
   "source": [
    "def adjacent(arr1, arr2, N):\n",
    "    i1, i2, i3, i4 = arr1\n",
    "    j1, j2, j3, j4 = arr2\n",
    "    if i1 == j1:\n",
    "        if i3 == j3 and (i2 + i4 - j2 - j4) % N == 0:\n",
    "            return True\n",
    "        if i4 == j4 and (i2 + i3 - j2 - j3) % N == 0:\n",
    "            return True\n",
    "    if i2 == j2:\n",
    "        if i3 == j3 and (i1 + i4 - j1 - j4) % N == 0:\n",
    "            return True\n",
    "        if i4 == j4 and (i1 + i3 - j1 - j3) % N == 0:\n",
    "            return True\n",
    "    return False"
   ]
  },
  {
   "cell_type": "code",
   "execution_count": null,
   "metadata": {},
   "outputs": [],
   "source": [
    "def build_graph(L, N):\n",
    "    graph = {i: [] for i in range(len(L))}\n",
    "    for i, node1 in enumerate(L):\n",
    "        for j, node2 in enumerate(L):\n",
    "            if i != j and adjacent(node1, node2, N):\n",
    "                graph[i].append(j)\n",
    "    return graph"
   ]
  },
  {
   "cell_type": "code",
   "execution_count": null,
   "metadata": {},
   "outputs": [],
   "source": [
    "def dfs(node, graph, visited, tree):\n",
    "    stack = [node]\n",
    "    tree.append(node)\n",
    "    while stack:\n",
    "        current = stack.pop()\n",
    "        if not visited[current]:\n",
    "            visited[current] = True\n",
    "            for neighbor in graph[current]:\n",
    "                if not visited[neighbor]:\n",
    "                    stack.append(neighbor)\n",
    "                    tree.append(neighbor)"
   ]
  },
  {
   "cell_type": "code",
   "execution_count": null,
   "metadata": {},
   "outputs": [],
   "source": [
    "def find_dfs_trees(L, N):\n",
    "    graph = build_graph(L, N)\n",
    "    visited = [False] * len(L)\n",
    "    dfs_trees = []\n",
    "\n",
    "    for node in range(len(L)):\n",
    "        if not visited[node]:\n",
    "            tree = []\n",
    "            dfs(node, graph, visited, tree)\n",
    "            dfs_trees.append(tree)\n",
    "\n",
    "    return dfs_trees"
   ]
  },
  {
   "cell_type": "code",
   "execution_count": null,
   "metadata": {},
   "outputs": [],
   "source": [
    "N = 16\n",
    "L = list(itertools.product(range(N), repeat=4))\n",
    "dfs_trees = find_dfs_trees(L, N)\n",
    "for i, tree in enumerate(dfs_trees):\n",
    "    print(f\"Tree {i + 1}: {[L[node] for node in tree]}\")"
   ]
  },
  {
   "cell_type": "code",
   "execution_count": null,
   "metadata": {},
   "outputs": [],
   "source": [
    "dfs_trees = [[L[j] for j in trees] for trees in dfs_trees]"
   ]
  },
  {
   "cell_type": "code",
   "execution_count": 1,
   "metadata": {},
   "outputs": [],
   "source": [
    "#initial alternating condition:\n",
    "def initial_condition(arr):\n",
    "    k1,k2,k3,k4 = arr\n",
    "    c = 0\n",
    "    if (k1+k3)%(N) == 0:\n",
    "        if(k2+k4)%(N) == 0: c+=1\n",
    "    if (k1+k4)%(N) == 0:\n",
    "        if(k2+k3)%(N) == 0: c+=1\n",
    "    if c1: return True\n",
    "    return False"
   ]
  },
  {
   "cell_type": "code",
   "execution_count": null,
   "metadata": {},
   "outputs": [],
   "source": [
    "for cls in dfs_trees:\n",
    "    print(len(cls))\n",
    "    if any(initial_condition(k) for k in cls):\n",
    "        print(cls[0])"
   ]
  },
  {
   "cell_type": "code",
   "execution_count": null,
   "metadata": {},
   "outputs": [],
   "source": [
    "for cls in dfs_trees:\n",
    "    if not any(initial_condition(k) for k in cls):\n",
    "        print(f\"initial codn not true for all in tree {cls[0]}\")\n",
    "    if all(initial_condition(k) for k in cls):\n",
    "        print(f\"initial codn true for all in tree {cls[0]}\")\n",
    "    "
   ]
  },
  {
   "cell_type": "code",
   "execution_count": null,
   "metadata": {},
   "outputs": [],
   "source": [
    "for k in dfs_trees[2]:\n",
    "    print(k,initial_condition(k))"
   ]
  }
 ],
 "metadata": {
  "kernelspec": {
   "display_name": "Python 3",
   "language": "python",
   "name": "python3"
  },
  "language_info": {
   "codemirror_mode": {
    "name": "ipython",
    "version": 3
   },
   "file_extension": ".py",
   "mimetype": "text/x-python",
   "name": "python",
   "nbconvert_exporter": "python",
   "pygments_lexer": "ipython3",
   "version": "3.9.6"
  }
 },
 "nbformat": 4,
 "nbformat_minor": 2
}
