{
 "cells": [
  {
   "cell_type": "code",
   "execution_count": 1,
   "metadata": {},
   "outputs": [],
   "source": [
    "import numpy as np\n",
    "import itertools"
   ]
  },
  {
   "cell_type": "code",
   "execution_count": 2,
   "metadata": {},
   "outputs": [],
   "source": [
    "N =  64"
   ]
  },
  {
   "cell_type": "code",
   "execution_count": 3,
   "metadata": {},
   "outputs": [],
   "source": [
    "def get_system(node,L,N):\n",
    "\n",
    "    graph = {i: [] for i in range(len(L))}\n",
    "    for i, node1 in enumerate(L):\n",
    "        for j, node2 in enumerate(L):\n",
    "            if i != j and adjacent(node1, node2, N):\n",
    "                graph[i].append(j)\n",
    "    \n",
    "    visited = [False] * len(L)\n",
    "    stack = [node]\n",
    "    tree = [node]\n",
    "    \n",
    "    while stack:\n",
    "        current = stack.pop()\n",
    "        if not visited[current]:\n",
    "            visited[current] = True\n",
    "            for neighbor in graph[current]:\n",
    "                if not visited[neighbor]:\n",
    "                    stack.append(neighbor)\n",
    "                    tree.append(neighbor)\n",
    "    \n",
    "    return tree"
   ]
  },
  {
   "cell_type": "markdown",
   "metadata": {},
   "source": [
    "### 2 point"
   ]
  },
  {
   "cell_type": "code",
   "execution_count": 4,
   "metadata": {},
   "outputs": [],
   "source": [
    "def adjacent(arr1, arr2, N):\n",
    "    i1, i2 = arr1\n",
    "    j1, j2 = arr2\n",
    "    if (i1+i2-j1-j2)%N==0:\n",
    "        return True\n",
    "    return False"
   ]
  },
  {
   "cell_type": "code",
   "execution_count": 5,
   "metadata": {},
   "outputs": [
    {
     "name": "stdout",
     "output_type": "stream",
     "text": [
      "0\n",
      "1\n",
      "2\n",
      "3\n",
      "4\n",
      "5\n",
      "6\n",
      "7\n",
      "8\n",
      "9\n",
      "10\n",
      "11\n",
      "12\n",
      "13\n",
      "14\n",
      "15\n",
      "16\n",
      "17\n",
      "18\n",
      "19\n",
      "20\n",
      "21\n",
      "22\n",
      "23\n",
      "24\n",
      "25\n",
      "26\n",
      "27\n",
      "28\n",
      "29\n",
      "30\n",
      "31\n",
      "32\n",
      "33\n",
      "34\n",
      "35\n",
      "36\n",
      "37\n",
      "38\n",
      "39\n",
      "40\n",
      "41\n",
      "42\n",
      "43\n",
      "44\n",
      "45\n",
      "46\n",
      "47\n",
      "48\n",
      "49\n",
      "50\n",
      "51\n",
      "52\n",
      "53\n",
      "54\n",
      "55\n",
      "56\n",
      "57\n",
      "58\n",
      "59\n",
      "60\n",
      "61\n",
      "62\n",
      "63\n"
     ]
    }
   ],
   "source": [
    "L = []\n",
    "for k1 in range(N):\n",
    "    print(k1)\n",
    "    for k2 in range(N): L.append([k1,k2])"
   ]
  },
  {
   "cell_type": "code",
   "execution_count": 6,
   "metadata": {},
   "outputs": [
    {
     "name": "stdout",
     "output_type": "stream",
     "text": [
      "system [0, 0] defined. size: 64\n"
     ]
    }
   ],
   "source": [
    "system_2p = []\n",
    "for k in [0,int(N/2)]: #determined by alternating init state\n",
    "    system = list(set(get_system(k,L,N)))\n",
    "    system = [L[i] for i in system] #list of mode touples that are in this system of equations\n",
    "    n = len(system)\n",
    "    print(f\"system {system[0]} defined. size: {n}\")\n",
    "    system_2p.append(system)"
   ]
  },
  {
   "cell_type": "markdown",
   "metadata": {},
   "source": [
    "### 4 point"
   ]
  },
  {
   "cell_type": "code",
   "execution_count": null,
   "metadata": {},
   "outputs": [],
   "source": [
    "def adjacent(arr1, arr2, N):\n",
    "    i1, i2, i3, i4 = arr1\n",
    "    j1, j2, j3, j4 = arr2\n",
    "    if i1 == j1:\n",
    "        if i3 == j3 and (i2 + i4 - j2 - j4) % N == 0:\n",
    "            return True\n",
    "        if i4 == j4 and (i2 + i3 - j2 - j3) % N == 0:\n",
    "            return True\n",
    "    if i2 == j2:\n",
    "        if i3 == j3 and (i1 + i4 - j1 - j4) % N == 0:\n",
    "            return True\n",
    "        if i4 == j4 and (i1 + i3 - j1 - j3) % N == 0:\n",
    "            return True\n",
    "    return False"
   ]
  },
  {
   "cell_type": "code",
   "execution_count": null,
   "metadata": {},
   "outputs": [],
   "source": [
    "L = []\n",
    "for k1 in range(N):\n",
    "    print(k1)\n",
    "    for k2 in range(N):\n",
    "        for k3 in range(N):\n",
    "            for k4 in range(N): L.append([k1,k2,k3,k4])"
   ]
  },
  {
   "cell_type": "code",
   "execution_count": null,
   "metadata": {},
   "outputs": [],
   "source": [
    "system_4p = []\n",
    "for k in [0,int(N/2)]: #determined by alternating init state\n",
    "    system = list(set(get_system(k,L,N)))\n",
    "    system = [L[i] for i in system] #list of mode touples that are in this system of equations\n",
    "    n = len(system)\n",
    "    print(f\"system {system[0]} defined. size: {n}\")\n",
    "    system_4p.append(system)"
   ]
  }
 ],
 "metadata": {
  "kernelspec": {
   "display_name": "Python 3",
   "language": "python",
   "name": "python3"
  },
  "language_info": {
   "codemirror_mode": {
    "name": "ipython",
    "version": 3
   },
   "file_extension": ".py",
   "mimetype": "text/x-python",
   "name": "python",
   "nbconvert_exporter": "python",
   "pygments_lexer": "ipython3",
   "version": "3.8.10"
  }
 },
 "nbformat": 4,
 "nbformat_minor": 2
}
