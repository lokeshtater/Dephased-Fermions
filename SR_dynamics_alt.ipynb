{
 "cells": [
  {
   "cell_type": "markdown",
   "metadata": {},
   "source": [
    "Both 2 pt and 4 pt have N systems of equations. Each system can be labelled by example element [0,0,0,k], where k=0,..,N-1\n",
    "\n",
    "We use the alternating initial condition to predetermine the relevant systems of equations. And use dfs to generate the indicies of these systems\n",
    "\n",
    "For alternating initial conditions only systems [0,0,0,0] and [0,0,0,N/2] have non-zero initial conditions."
   ]
  },
  {
   "cell_type": "code",
   "execution_count": 1,
   "metadata": {},
   "outputs": [],
   "source": [
    "import numpy as np\n",
    "import itertools\n",
    "from scipy.integrate import solve_ivp\n",
    "import matplotlib.pyplot as plt\n",
    "from tqdm import tqdm"
   ]
  },
  {
   "cell_type": "code",
   "execution_count": 2,
   "metadata": {},
   "outputs": [],
   "source": [
    "N = 64\n",
    "mu = 0.0\n",
    "gamma = 0.0"
   ]
  },
  {
   "cell_type": "code",
   "execution_count": 3,
   "metadata": {},
   "outputs": [
    {
     "name": "stdout",
     "output_type": "stream",
     "text": [
      "tight binding model\n"
     ]
    }
   ],
   "source": [
    "##Computing Eigenvalues\n",
    "E = np.zeros(N,dtype=float)\n",
    "if(mu==0): #tight binding model\n",
    "    print(\"tight binding model\")\n",
    "    for alpha in range(N):\n",
    "        E[alpha] = 2*np.cos(2*np.pi*alpha/N)\n",
    "else: #long range hopping\n",
    "    for alpha in range(N):\n",
    "        for j in range(1,int((N-1)/2+1)):\n",
    "            E[alpha] += 2*np.cos(2*np.pi*alpha*j/N)/(j**mu)\n",
    "        if (alpha%2==0): E[alpha] += 1.0/((N/2)**mu)\n",
    "        else: E[alpha] += -1.0/((N/2)**mu)"
   ]
  },
  {
   "cell_type": "code",
   "execution_count": 5,
   "metadata": {},
   "outputs": [],
   "source": [
    "def get_system(node,L,N):\n",
    "\n",
    "    graph = {i: [] for i in range(len(L))}\n",
    "    for i, node1 in enumerate(L):\n",
    "        for j, node2 in enumerate(L):\n",
    "            if i != j and adjacent(node1, node2, N):\n",
    "                graph[i].append(j)\n",
    "    \n",
    "    visited = [False] * len(L)\n",
    "    stack = [node]\n",
    "    tree = [node]\n",
    "    \n",
    "    while stack:\n",
    "        current = stack.pop()\n",
    "        if not visited[current]:\n",
    "            visited[current] = True\n",
    "            for neighbor in graph[current]:\n",
    "                if not visited[neighbor]:\n",
    "                    stack.append(neighbor)\n",
    "                    tree.append(neighbor)\n",
    "    \n",
    "    return tree"
   ]
  },
  {
   "cell_type": "code",
   "execution_count": 6,
   "metadata": {},
   "outputs": [],
   "source": [
    "# Time points where solution is computed\n",
    "logt_span = (-2, +2)\n",
    "log_times = np.linspace(-2, +2, 100)"
   ]
  },
  {
   "cell_type": "code",
   "execution_count": null,
   "metadata": {},
   "outputs": [],
   "source": [
    "# progress bar for integration\n",
    "def progress_bar(t,y):\n",
    "    pbar.update(1)"
   ]
  },
  {
   "cell_type": "markdown",
   "metadata": {},
   "source": [
    "## 2 Point correlators"
   ]
  },
  {
   "cell_type": "code",
   "execution_count": 7,
   "metadata": {},
   "outputs": [],
   "source": [
    "def adjacent(arr1, arr2, N):\n",
    "    i1, i2 = arr1\n",
    "    j1, j2 = arr2\n",
    "    if (i1+i2-j1-j2)%N==0:\n",
    "        return True\n",
    "    return False"
   ]
  },
  {
   "cell_type": "code",
   "execution_count": null,
   "metadata": {},
   "outputs": [],
   "source": [
    "def ode_coeff_2pt(arr1,arr2):\n",
    "    p1,p2=arr1\n",
    "    q1,q2=arr2\n",
    "    if(arr1==arr2): return 1.0j*(E[p1]-E[p2]) - gamma*(1-1/N)\n",
    "    else:\n",
    "        if (p1+p2-q1-q2)%N==0 : return gamma/N + 0.0j"
   ]
  },
  {
   "cell_type": "code",
   "execution_count": null,
   "metadata": {},
   "outputs": [],
   "source": [
    "def equation_2pt(i,S):\n",
    "    n = len(S)\n",
    "    return sum(ode_coeff_2pt(system[i],system[j])*S[j] for j in range(n))"
   ]
  },
  {
   "cell_type": "code",
   "execution_count": null,
   "metadata": {},
   "outputs": [],
   "source": [
    "def odes_2pt(t, S1):\n",
    "    n = len(S1)\n",
    "    dxdt = np.zeros(n,dtype=complex)\n",
    "    for i in range(n):\n",
    "        dxdt[i] = (10**t)*equation_2pt(i, S1)\n",
    "    return dxdt"
   ]
  },
  {
   "cell_type": "code",
   "execution_count": null,
   "metadata": {},
   "outputs": [],
   "source": [
    "D_mm = np.zeros(len(log_times),dtype=complex)\n",
    "\n",
    "L = list(itertools.product(range(N), repeat=2))\n",
    "for system in [0,int(N/2)]: #is determined by alternating initial state\n",
    "    system = list(set(get_system(system,L,N)))\n",
    "    system = [L[i] for i in system] #list of mode touples that are in this system of equations\n",
    "    n = len(system)\n",
    "\n",
    "    print(f\"system {system[0]} defined. size: {n}\")\n",
    "\n",
    "    #initial condition\n",
    "    d0 = [0.5 + 0.0j for i in range(n)]\n",
    "\n",
    "    solution = solve_ivp(odes_2pt, logt_span, d0, t_eval=log_times,method='RK45')\n",
    "    \n",
    "    #fourier scaling\n",
    "    four_scaling = [sum(np.exp(2.0j*np.pi*m*sum(system[k])/N) for m in range(int(N/2))) for k in range(n)]\n",
    "    #scaled_solution = [four_scaling(k)*solution.y[k,:] for k in range(n)]\n",
    "    #D_mm += [sum(scaled_solution[:,t]) for t in range(len(log_times))]\n",
    "    D_mm += [sum(four_scaling[k]*solution.y[k][t] for k in range(n))/(N) for t in range(len(log_times))]"
   ]
  },
  {
   "cell_type": "markdown",
   "metadata": {},
   "source": [
    "## 4 point"
   ]
  },
  {
   "cell_type": "code",
   "execution_count": null,
   "metadata": {},
   "outputs": [],
   "source": [
    "def adjacent(arr1, arr2, N):\n",
    "    i1, i2, i3, i4 = arr1\n",
    "    j1, j2, j3, j4 = arr2\n",
    "    if i1 == j1:\n",
    "        if i3 == j3 and (i2 + i4 - j2 - j4) % N == 0:\n",
    "            return True\n",
    "        if i4 == j4 and (i2 + i3 - j2 - j3) % N == 0:\n",
    "            return True\n",
    "    if i2 == j2:\n",
    "        if i3 == j3 and (i1 + i4 - j1 - j4) % N == 0:\n",
    "            return True\n",
    "        if i4 == j4 and (i1 + i3 - j1 - j3) % N == 0:\n",
    "            return True\n",
    "    return False"
   ]
  },
  {
   "cell_type": "code",
   "execution_count": null,
   "metadata": {},
   "outputs": [],
   "source": [
    "def ode_coeff_4pt(arr1,arr2):\n",
    "    p1,p2,p3,p4=arr1\n",
    "    q1,q2,q3,q4=arr2\n",
    "    coeff = 0.0 + 0.0j\n",
    "    if(arr1==arr2): return 1.0j*(E[p1]+E[p2]-E[p3]-E[p4]) - gamma*(2-1/(4*N))\n",
    "    else:\n",
    "        if p1 == q1:\n",
    "            if p3 == q3 and (p2 + p4 - p2 - p4) % N == 0:\n",
    "                coeff += gamma/N\n",
    "            if p4 == q4 and (p2 + p3 - q2 - q3) % N == 0:\n",
    "                coeff += gamma/N\n",
    "        if p2 == q2:\n",
    "            if p3 == q3 and (p1 + p4 - q1 - q4) % N == 0:\n",
    "                coeff += gamma/N\n",
    "            if p4 == q4 and (p1 + p3 - q1 - q3) % N == 0:\n",
    "                coeff += gamma/N\n",
    "    return coeff"
   ]
  },
  {
   "cell_type": "code",
   "execution_count": null,
   "metadata": {},
   "outputs": [],
   "source": [
    "def equation_4pt(i,S):\n",
    "    n = len(S)\n",
    "    return sum(ode_coeff_4pt(system[i],system[j])*S[j] for j in range(n))"
   ]
  },
  {
   "cell_type": "code",
   "execution_count": null,
   "metadata": {},
   "outputs": [],
   "source": [
    "def odes_4pt(t, S1):\n",
    "    n = len(S1)\n",
    "    dxdt = np.zeros(n,dtype=complex)\n",
    "    for i in range(n):\n",
    "        dxdt[i] = (10**t)*equation_4pt(i, S1)\n",
    "    return dxdt"
   ]
  },
  {
   "cell_type": "code",
   "execution_count": null,
   "metadata": {},
   "outputs": [],
   "source": [
    "F_mnmn = np.zeros(len(log_times),dtype=complex)\n",
    "\n",
    "L = list(itertools.product(range(N), repeat=4))\n",
    "for system in [0,int(N/2)]: #is determined by alternating initial state\n",
    "\n",
    "    system = list(set(get_system(system,L,N)))\n",
    "    system = [L[i] for i in system] #list of mode touples that are in this system of equations\n",
    "    n = len(system)\n",
    "    print(f\"system {system[0]} defined. size: {n}\")\n",
    "\n",
    "    #initial condition\n",
    "    f0 = np.zeros(n,dtype=complex)\n",
    "    for i in range(n):\n",
    "        k1,k2,k3,k4 = system[i]\n",
    "        if (k1+k3)%(N/2) == 0:\n",
    "            if(k2+k4)%(N/2) == 0: f0[i] -= 0.25\n",
    "        if (k1+k4)%(N) == 0:\n",
    "            if(k2+k3)%(N) == 0: f0[i] += 0.25\n",
    "    print(\"Initial state defined\")\n",
    "    \n",
    "\n",
    "    solution = solve_ivp(odes_4pt, logt_span, f0, t_eval=log_times,method='RK45')\n",
    "    \n",
    "    #fourier scaling:\n",
    "    four_scaling = [sum(np.exp(2.0j*np.pi*(m*(system[k][0]+system[k][2])+n*(system[k][1]+system[k][3]))) for m in range(int(N/2)) for n in range(int(N/2))) for k in range(n)]\n",
    "    #scaled_solution = [four_scaling(k)*solution.y[k,:]/(N**4) for k in range(n)]\n",
    "    #F_mnmn += [sum(scaled_solution[:,t]) for t in range(len(log_times))]\n",
    "    F_mnmn += [sum(four_scaling(k)*solution.y[k][i] for k in range(n))/(N**4) for i in range(len(log_times))]"
   ]
  },
  {
   "cell_type": "code",
   "execution_count": null,
   "metadata": {},
   "outputs": [],
   "source": [
    "w_sq = [(-F_mnmn[t]+D_mm[t]-(D_mm[t]**2)) for t in range(len(log_times))]"
   ]
  },
  {
   "cell_type": "code",
   "execution_count": null,
   "metadata": {},
   "outputs": [],
   "source": [
    "import pandas as pd"
   ]
  },
  {
   "cell_type": "code",
   "execution_count": null,
   "metadata": {},
   "outputs": [],
   "source": []
  }
 ],
 "metadata": {
  "kernelspec": {
   "display_name": "Python 3",
   "language": "python",
   "name": "python3"
  },
  "language_info": {
   "codemirror_mode": {
    "name": "ipython",
    "version": 3
   },
   "file_extension": ".py",
   "mimetype": "text/x-python",
   "name": "python",
   "nbconvert_exporter": "python",
   "pygments_lexer": "ipython3",
   "version": "3.8.10"
  }
 },
 "nbformat": 4,
 "nbformat_minor": 2
}
