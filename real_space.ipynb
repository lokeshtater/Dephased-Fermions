{
 "cells": [
  {
   "cell_type": "code",
   "execution_count": 6,
   "metadata": {},
   "outputs": [],
   "source": [
    "import numpy as np\n",
    "from scipy.integrate import solve_ivp\n",
    "import matplotlib.pyplot as plt\n",
    "import sys"
   ]
  },
  {
   "cell_type": "code",
   "execution_count": null,
   "metadata": {},
   "outputs": [],
   "source": [
    "N = int(sys.argv[1])\n",
    "mu = float(sys.argv[2])\n",
    "gamma = float(sys.argv[3])\n",
    "state = sys.argv[4]"
   ]
  },
  {
   "cell_type": "code",
   "execution_count": 4,
   "metadata": {},
   "outputs": [],
   "source": [
    "N = 8\n",
    "mu = 0.0\n",
    "gamma = 0.0\n",
    "state = \"alt\""
   ]
  },
  {
   "cell_type": "code",
   "execution_count": 7,
   "metadata": {},
   "outputs": [],
   "source": [
    "##Computing Eigenvalues\n",
    "E = np.zeros(N,dtype=float)\n",
    "if(mu==0): #tight binding model\n",
    "    for alpha in range(N):\n",
    "        E[alpha] = 2*np.cos(2*np.pi*alpha/N)\n",
    "else: #long range hopping\n",
    "    for alpha in range(N):\n",
    "        for j in range(1,int((N-1)/2+1)):\n",
    "            E[alpha] += 2*np.cos(2*np.pi*alpha*j/N)/(j**mu)\n",
    "        if (alpha%2==0): E[alpha] += 1.0/((N/2)**mu)\n",
    "        else: E[alpha] += -1.0/((N/2)**mu)"
   ]
  },
  {
   "cell_type": "code",
   "execution_count": 8,
   "metadata": {},
   "outputs": [],
   "source": [
    "# Time points where solution is computed\n",
    "logt_span = (-2, +2)\n",
    "log_times = np.linspace(-2, +2, 100)"
   ]
  },
  {
   "cell_type": "code",
   "execution_count": 11,
   "metadata": {},
   "outputs": [],
   "source": [
    "if state==\"alt\": ind = [m for m in range(N) if m%2==0]"
   ]
  },
  {
   "cell_type": "markdown",
   "metadata": {},
   "source": [
    "## 2 point"
   ]
  },
  {
   "cell_type": "code",
   "execution_count": 9,
   "metadata": {},
   "outputs": [],
   "source": [
    "if mu == 0.0:\n",
    "    def ode_2pt(t,x):\n",
    "        dxdt = np.zeros(len(x),dtype=complex)\n",
    "        for i in range(len(x)):\n",
    "            dxdt[i] = 1.0j*(x[(i-1)%N]+x[(i+1)%N]-x[(i+N)%N]-x[(i-N)%N])\n",
    "        return dxdt"
   ]
  },
  {
   "cell_type": "code",
   "execution_count": null,
   "metadata": {},
   "outputs": [],
   "source": [
    "#initial state\n",
    "d0 = np.zeros(N**2,dtype=complex)\n",
    "d0[[(N+1)*m for m in ind]] = 1.0\n",
    "\n",
    "solution = solve_ivp(ode_2pt, logt_span, d0, t_eval=log_times,method='RK45')\n",
    "    "
   ]
  },
  {
   "cell_type": "markdown",
   "metadata": {},
   "source": [
    "## 4 point"
   ]
  },
  {
   "cell_type": "code",
   "execution_count": null,
   "metadata": {},
   "outputs": [],
   "source": [
    "if mu == 0.0:\n",
    "    def ode_4pt(t,x):\n",
    "        dxdt = np.zeros(len(x),dtype=complex)\n",
    "        for i in range(len(x)):\n",
    "            dxdt[i] = 1.0j*(x[(i+1)%N]+x[(i-1)%N]+x[(i+N)%N]+x[(i-N)%N]-x[(i-N**2)%N]-x[(i-N**2)%N]-x[(i+N**3)%N]-x[(i-N**3)%N])\n",
    "        return dxdt"
   ]
  },
  {
   "cell_type": "code",
   "execution_count": null,
   "metadata": {},
   "outputs": [],
   "source": [
    "#initial state\n",
    "f0 = np.zeros(N**4,dtype=complex)\n",
    "for m in ind:\n",
    "    for n in ind:\n",
    "        f0[int((N**3+1)*m+(N**2+N)*n)] += 1\n",
    "        f0[int((N**2+1)*m+(N**3+N)*n)] -= 1\n",
    "\n",
    "solution = solve_ivp(ode_2pt, logt_span, d0, t_eval=log_times,method='RK45')\n"
   ]
  }
 ],
 "metadata": {
  "kernelspec": {
   "display_name": "Python 3",
   "language": "python",
   "name": "python3"
  },
  "language_info": {
   "codemirror_mode": {
    "name": "ipython",
    "version": 3
   },
   "file_extension": ".py",
   "mimetype": "text/x-python",
   "name": "python",
   "nbconvert_exporter": "python",
   "pygments_lexer": "ipython3",
   "version": "3.8.10"
  }
 },
 "nbformat": 4,
 "nbformat_minor": 2
}
